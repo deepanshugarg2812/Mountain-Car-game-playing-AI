{
 "cells": [
  {
   "cell_type": "markdown",
   "metadata": {},
   "source": [
    "### Reinforcement learning"
   ]
  },
  {
   "cell_type": "code",
   "execution_count": 1,
   "metadata": {},
   "outputs": [],
   "source": [
    "import gym"
   ]
  },
  {
   "cell_type": "code",
   "execution_count": 2,
   "metadata": {},
   "outputs": [],
   "source": [
    "## Creating the game environment\n",
    "env = gym.make('CartPole-v0')"
   ]
  },
  {
   "cell_type": "code",
   "execution_count": 4,
   "metadata": {},
   "outputs": [],
   "source": [
    "## Playig the game with random actions \n",
    "env.reset()\n",
    "for i in range(500):\n",
    "    env.step(env.action_space.sample())\n",
    "    env.render()\n",
    "env.close()"
   ]
  },
  {
   "cell_type": "markdown",
   "metadata": {},
   "source": [
    "### Playing game with random actions"
   ]
  },
  {
   "cell_type": "code",
   "execution_count": 6,
   "metadata": {},
   "outputs": [
    {
     "name": "stdout",
     "output_type": "stream",
     "text": [
      "The pole was balanced for 13 in 0 iteration\n",
      "The pole was balanced for 14 in 1 iteration\n",
      "The pole was balanced for 12 in 2 iteration\n",
      "The pole was balanced for 13 in 3 iteration\n",
      "The pole was balanced for 20 in 4 iteration\n",
      "The pole was balanced for 19 in 5 iteration\n",
      "The pole was balanced for 16 in 6 iteration\n",
      "The pole was balanced for 17 in 7 iteration\n",
      "The pole was balanced for 11 in 8 iteration\n",
      "The pole was balanced for 14 in 9 iteration\n",
      "The pole was balanced for 20 in 10 iteration\n",
      "The pole was balanced for 17 in 11 iteration\n",
      "The pole was balanced for 15 in 12 iteration\n",
      "The pole was balanced for 22 in 13 iteration\n",
      "The pole was balanced for 18 in 14 iteration\n",
      "The pole was balanced for 12 in 15 iteration\n",
      "The pole was balanced for 17 in 16 iteration\n",
      "The pole was balanced for 33 in 17 iteration\n",
      "The pole was balanced for 21 in 18 iteration\n",
      "The pole was balanced for 32 in 19 iteration\n"
     ]
    }
   ],
   "source": [
    "for i in range(20): ##We would have 20 game actions\n",
    "    observations = env.reset()\n",
    "    for t in range(50):\n",
    "        actions = env.action_space.sample()\n",
    "        observation,reward,done,other_info = env.step(actions)\n",
    "        env.render()\n",
    "        if done:\n",
    "            print(\"The pole was balanced for {} in {} iteration\".format(t,i))\n",
    "            break\n",
    "env.close()    "
   ]
  },
  {
   "cell_type": "code",
   "execution_count": null,
   "metadata": {},
   "outputs": [],
   "source": []
  }
 ],
 "metadata": {
  "kernelspec": {
   "display_name": "Python 3",
   "language": "python",
   "name": "python3"
  },
  "language_info": {
   "codemirror_mode": {
    "name": "ipython",
    "version": 3
   },
   "file_extension": ".py",
   "mimetype": "text/x-python",
   "name": "python",
   "nbconvert_exporter": "python",
   "pygments_lexer": "ipython3",
   "version": "3.7.4"
  }
 },
 "nbformat": 4,
 "nbformat_minor": 2
}
